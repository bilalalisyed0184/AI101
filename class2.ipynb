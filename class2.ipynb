{
  "nbformat": 4,
  "nbformat_minor": 0,
  "metadata": {
    "colab": {
      "provenance": [],
      "gpuType": "T4",
      "authorship_tag": "ABX9TyNFLIffMW86E6P2acIJvtaa",
      "include_colab_link": true
    },
    "kernelspec": {
      "name": "python3",
      "display_name": "Python 3"
    },
    "language_info": {
      "name": "python"
    },
    "accelerator": "GPU"
  },
  "cells": [
    {
      "cell_type": "markdown",
      "metadata": {
        "id": "view-in-github",
        "colab_type": "text"
      },
      "source": [
        "<a href=\"https://colab.research.google.com/github/bilalalisyed0184/AI101/blob/main/class2.ipynb\" target=\"_parent\"><img src=\"https://colab.research.google.com/assets/colab-badge.svg\" alt=\"Open In Colab\"/></a>"
      ]
    },
    {
      "cell_type": "code",
      "source": [
        "name = \"bilal\"\n",
        "number = 9.9\n",
        "print(type(number))"
      ],
      "metadata": {
        "colab": {
          "base_uri": "https://localhost:8080/"
        },
        "id": "CE5G5enbjlay",
        "outputId": "e4ad6833-3c87-46a9-fcf8-e4d5d271f130"
      },
      "execution_count": null,
      "outputs": [
        {
          "output_type": "stream",
          "name": "stdout",
          "text": [
            "<class 'float'>\n"
          ]
        }
      ]
    },
    {
      "cell_type": "code",
      "source": [
        "print(f\"My name is {name}\")"
      ],
      "metadata": {
        "colab": {
          "base_uri": "https://localhost:8080/"
        },
        "id": "lQ1Nk7-im3kj",
        "outputId": "407b7096-e068-4efd-ba9d-8c632c29f8db"
      },
      "execution_count": null,
      "outputs": [
        {
          "output_type": "stream",
          "name": "stdout",
          "text": [
            "My name is bilal\n"
          ]
        }
      ]
    },
    {
      "cell_type": "code",
      "source": [
        "# prompt: write multiline paragraph in print\n",
        "\n",
        "print(\"\"\"In this file:\n",
        "name = \"bilal\"\n",
        "number = 9.9\n",
        "\"\"\")\n"
      ],
      "metadata": {
        "colab": {
          "base_uri": "https://localhost:8080/"
        },
        "id": "K6lj1OPzpVmV",
        "outputId": "47b5cc4c-787f-4b0a-e776-840d7fd5ab2b"
      },
      "execution_count": null,
      "outputs": [
        {
          "output_type": "stream",
          "name": "stdout",
          "text": [
            "In this file: \n",
            "name = \"bilal\"   \n",
            "number = 9.9\n",
            "\n"
          ]
        }
      ]
    },
    {
      "cell_type": "code",
      "source": [
        "first_name = \"hamzah\"\n",
        "# print(first_name)"
      ],
      "metadata": {
        "colab": {
          "base_uri": "https://localhost:8080/"
        },
        "id": "rCP9pUZqrPCi",
        "outputId": "4615e370-18d4-4cf0-a701-bb1afa4b3ffa"
      },
      "execution_count": null,
      "outputs": [
        {
          "output_type": "stream",
          "name": "stdout",
          "text": [
            "bilal\n"
          ]
        }
      ]
    },
    {
      "cell_type": "code",
      "source": [
        "name = \"Hamzah\"\n",
        "print(f\"\"\"Hi! {name},\n",
        "you got a free coupon code : 22222\n",
        "Best Regards,\n",
        "syed bilal ali\n",
        "\"\"\")"
      ],
      "metadata": {
        "colab": {
          "base_uri": "https://localhost:8080/"
        },
        "id": "5G0I9bfSr69x",
        "outputId": "48264249-a5a0-465e-9db2-af047fc13288"
      },
      "execution_count": null,
      "outputs": [
        {
          "output_type": "stream",
          "name": "stdout",
          "text": [
            "Hi! Hamzah, \n",
            "you got a free coupon code : 22222\n",
            "Best Regards,\n",
            "syed bilal ali\n",
            "\n"
          ]
        }
      ]
    },
    {
      "cell_type": "code",
      "source": [
        "# Addition\n",
        "item1 = 2\n",
        "item2 = 2\n",
        "result = item1 + item2\n",
        "print(f\"Addition: {result}\")"
      ],
      "metadata": {
        "colab": {
          "base_uri": "https://localhost:8080/"
        },
        "id": "lY-2f_kfuQ_C",
        "outputId": "b5fa7c53-14c2-467d-8771-ef88c1156e18"
      },
      "execution_count": null,
      "outputs": [
        {
          "output_type": "stream",
          "name": "stdout",
          "text": [
            "Addition: 4\n"
          ]
        }
      ]
    },
    {
      "cell_type": "code",
      "source": [
        "# Subtraction\n",
        "a = 10\n",
        "b = 5\n",
        "result = a-b\n",
        "print(f\"Subtraction: {result}\")"
      ],
      "metadata": {
        "colab": {
          "base_uri": "https://localhost:8080/"
        },
        "id": "w7FyWlCDvCF-",
        "outputId": "7a42035c-2a41-414a-dff0-c31609b29fae"
      },
      "execution_count": null,
      "outputs": [
        {
          "output_type": "stream",
          "name": "stdout",
          "text": [
            "Subtraction: 5\n"
          ]
        }
      ]
    },
    {
      "cell_type": "code",
      "source": [
        "# Multiplication\n",
        "a = 10\n",
        "b = 5\n",
        "result = a*b\n",
        "print(f\"Multiplication: {result}\")"
      ],
      "metadata": {
        "colab": {
          "base_uri": "https://localhost:8080/"
        },
        "id": "45QDBf9Svibd",
        "outputId": "fefb6f7c-11db-4495-ede0-89348eb83519"
      },
      "execution_count": null,
      "outputs": [
        {
          "output_type": "stream",
          "name": "stdout",
          "text": [
            "Multiplication: 50\n"
          ]
        }
      ]
    },
    {
      "cell_type": "code",
      "source": [
        "# Division\n",
        "a = 10\n",
        "b = 5\n",
        "result = a/b\n",
        "print(f\"Division: {result}\")"
      ],
      "metadata": {
        "colab": {
          "base_uri": "https://localhost:8080/"
        },
        "id": "sUruCwwPvxdi",
        "outputId": "b292219e-df83-457d-913e-aa4e095b1549"
      },
      "execution_count": null,
      "outputs": [
        {
          "output_type": "stream",
          "name": "stdout",
          "text": [
            "Division: 2.0\n"
          ]
        }
      ]
    },
    {
      "cell_type": "code",
      "source": [
        "# Modulus\n",
        "a = 10\n",
        "b = 3\n",
        "result = a%b\n",
        "print(f\"Modulus: {result}\")"
      ],
      "metadata": {
        "colab": {
          "base_uri": "https://localhost:8080/"
        },
        "id": "amYCQ82Pv8gX",
        "outputId": "2ce349c7-0a96-49fe-94aa-662ab94f85b3"
      },
      "execution_count": null,
      "outputs": [
        {
          "output_type": "stream",
          "name": "stdout",
          "text": [
            "Modulus: 1\n"
          ]
        }
      ]
    },
    {
      "cell_type": "code",
      "source": [
        "a = 5\n",
        "b = 3\n",
        "result = a**b\n",
        "print(f\"Exponent: {result}\")"
      ],
      "metadata": {
        "colab": {
          "base_uri": "https://localhost:8080/"
        },
        "id": "uMmXYEZawUvc",
        "outputId": "24a9da75-b861-47f3-d765-7271a7438862"
      },
      "execution_count": null,
      "outputs": [
        {
          "output_type": "stream",
          "name": "stdout",
          "text": [
            "Exponent: 125\n"
          ]
        }
      ]
    }
  ]
}