{
  "nbformat": 4,
  "nbformat_minor": 0,
  "metadata": {
    "colab": {
      "provenance": [],
      "gpuType": "T4",
      "authorship_tag": "ABX9TyN1Xbktx/5rtzPdvvbnzqmd",
      "include_colab_link": true
    },
    "kernelspec": {
      "name": "python3",
      "display_name": "Python 3"
    },
    "language_info": {
      "name": "python"
    },
    "accelerator": "GPU"
  },
  "cells": [
    {
      "cell_type": "markdown",
      "metadata": {
        "id": "view-in-github",
        "colab_type": "text"
      },
      "source": [
        "<a href=\"https://colab.research.google.com/github/bilalalisyed0184/AI101/blob/main/class3.ipynb\" target=\"_parent\"><img src=\"https://colab.research.google.com/assets/colab-badge.svg\" alt=\"Open In Colab\"/></a>"
      ]
    },
    {
      "cell_type": "markdown",
      "source": [
        "**Mastering Boolean, Comparison Operators, Logical Operators and If-else in Python**"
      ],
      "metadata": {
        "id": "Xr48YVfTHKYd"
      }
    },
    {
      "cell_type": "code",
      "source": [
        "# Boolean Example\n",
        "is_loggedin = True # Boolean Value\n",
        "is_raining = False # Boolean Value\n",
        "\n",
        "print(is_loggedin) # Output: True\n",
        "print(type(is_raining)) # Output: <class 'bool'>\n"
      ],
      "metadata": {
        "colab": {
          "base_uri": "https://localhost:8080/"
        },
        "id": "U7-t6aOLHKiS",
        "outputId": "cf9218d8-aa49-4a01-c4ba-7cad10b3bc16"
      },
      "execution_count": null,
      "outputs": [
        {
          "output_type": "stream",
          "name": "stdout",
          "text": [
            "True\n",
            "<class 'bool'>\n"
          ]
        }
      ]
    },
    {
      "cell_type": "code",
      "source": [
        "# Comparision Operators:\n",
        "\n",
        "# == : Equal to\n",
        "# != : Not equal to\n",
        "# > : Greater than\n",
        "# < : Less than\n",
        "# >= : Greater than or equal to\n",
        "# <= : Less than or equal to\n",
        "\n",
        "# Comparision operators e.g:\n"
      ],
      "metadata": {
        "id": "5C6rZ6DdImSN"
      },
      "execution_count": null,
      "outputs": []
    }
  ]
}